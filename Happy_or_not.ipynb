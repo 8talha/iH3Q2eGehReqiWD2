{
  "nbformat": 4,
  "nbformat_minor": 0,
  "metadata": {
    "colab": {
      "name": "Happy or not.ipynb",
      "provenance": [],
      "collapsed_sections": [],
      "authorship_tag": "ABX9TyPs+XJHh5rkCgZxubpQnEYw",
      "include_colab_link": true
    },
    "kernelspec": {
      "name": "python3",
      "display_name": "Python 3"
    }
  },
  "cells": [
    {
      "cell_type": "markdown",
      "metadata": {
        "id": "view-in-github",
        "colab_type": "text"
      },
      "source": [
        "<a href=\"https://colab.research.google.com/github/8talha/iH3Q2eGehReqiWD2/blob/main/Happy_or_not.ipynb\" target=\"_parent\"><img src=\"https://colab.research.google.com/assets/colab-badge.svg\" alt=\"Open In Colab\"/></a>"
      ]
    },
    {
      "cell_type": "code",
      "metadata": {
        "id": "8y3xp5_SJ9Jw",
        "colab": {
          "base_uri": "https://localhost:8080/"
        },
        "outputId": "9f4bf20a-450f-4d14-f41f-bffad6c82416"
      },
      "source": [
        "# Load the Drive helper and mount\r\n",
        "from google.colab import drive\r\n",
        "\r\n",
        "# This will prompt for authorization.\r\n",
        "drive.mount('/content/drive')"
      ],
      "execution_count": 32,
      "outputs": [
        {
          "output_type": "stream",
          "text": [
            "Drive already mounted at /content/drive; to attempt to forcibly remount, call drive.mount(\"/content/drive\", force_remount=True).\n"
          ],
          "name": "stdout"
        }
      ]
    },
    {
      "cell_type": "code",
      "metadata": {
        "colab": {
          "base_uri": "https://localhost:8080/"
        },
        "id": "gJXPz1ZUpgNd",
        "outputId": "28f6c44f-0029-4cfb-bb9d-a0a27cfeed54"
      },
      "source": [
        "!pip install eli5"
      ],
      "execution_count": 33,
      "outputs": [
        {
          "output_type": "stream",
          "text": [
            "Requirement already satisfied: eli5 in /usr/local/lib/python3.7/dist-packages (0.11.0)\n",
            "Requirement already satisfied: numpy>=1.9.0 in /usr/local/lib/python3.7/dist-packages (from eli5) (1.19.5)\n",
            "Requirement already satisfied: jinja2 in /usr/local/lib/python3.7/dist-packages (from eli5) (2.11.3)\n",
            "Requirement already satisfied: graphviz in /usr/local/lib/python3.7/dist-packages (from eli5) (0.10.1)\n",
            "Requirement already satisfied: scipy in /usr/local/lib/python3.7/dist-packages (from eli5) (1.4.1)\n",
            "Requirement already satisfied: tabulate>=0.7.7 in /usr/local/lib/python3.7/dist-packages (from eli5) (0.8.9)\n",
            "Requirement already satisfied: six in /usr/local/lib/python3.7/dist-packages (from eli5) (1.15.0)\n",
            "Requirement already satisfied: scikit-learn>=0.20 in /usr/local/lib/python3.7/dist-packages (from eli5) (0.22.2.post1)\n",
            "Requirement already satisfied: attrs>16.0.0 in /usr/local/lib/python3.7/dist-packages (from eli5) (20.3.0)\n",
            "Requirement already satisfied: MarkupSafe>=0.23 in /usr/local/lib/python3.7/dist-packages (from jinja2->eli5) (1.1.1)\n",
            "Requirement already satisfied: joblib>=0.11 in /usr/local/lib/python3.7/dist-packages (from scikit-learn>=0.20->eli5) (1.0.1)\n"
          ],
          "name": "stdout"
        }
      ]
    },
    {
      "cell_type": "code",
      "metadata": {
        "id": "iE_9_huhLi54"
      },
      "source": [
        "#import libraries\r\n",
        "import pandas as pd\r\n",
        "import numpy as np\r\n",
        "import seaborn as sns\r\n",
        "from sklearn.model_selection import train_test_split\r\n",
        "from sklearn.ensemble import RandomForestClassifier\r\n",
        "import eli5\r\n",
        "from eli5.sklearn import PermutationImportance\r\n",
        "from sklearn.cluster import KMeans \r\n",
        "import lightgbm as lgbm\r\n",
        "from sklearn.model_selection import KFold, StratifiedKFold\r\n",
        "from sklearn.metrics import roc_auc_score\r\n",
        "from sklearn.model_selection import train_test_split\r\n",
        "import matplotlib.pyplot as plt\r\n",
        "%matplotlib inline"
      ],
      "execution_count": 34,
      "outputs": []
    },
    {
      "cell_type": "code",
      "metadata": {
        "id": "W5th71nTnYFx"
      },
      "source": [
        "csv_path='/content/drive/MyDrive/dataset/happy/ACME-HappinessSurvey2020.csv'"
      ],
      "execution_count": 35,
      "outputs": []
    },
    {
      "cell_type": "code",
      "metadata": {
        "id": "h18iaoUAp-9i"
      },
      "source": [
        "# Loading train and test data\r\n",
        "df = pd.read_csv(csv_path)"
      ],
      "execution_count": 36,
      "outputs": []
    },
    {
      "cell_type": "code",
      "metadata": {
        "colab": {
          "base_uri": "https://localhost:8080/",
          "height": 206
        },
        "id": "n2cC85W9qGAV",
        "outputId": "8eef82e0-3d74-4da5-bae5-fd2a3d168889"
      },
      "source": [
        "df.head()"
      ],
      "execution_count": 37,
      "outputs": [
        {
          "output_type": "execute_result",
          "data": {
            "text/html": [
              "<div>\n",
              "<style scoped>\n",
              "    .dataframe tbody tr th:only-of-type {\n",
              "        vertical-align: middle;\n",
              "    }\n",
              "\n",
              "    .dataframe tbody tr th {\n",
              "        vertical-align: top;\n",
              "    }\n",
              "\n",
              "    .dataframe thead th {\n",
              "        text-align: right;\n",
              "    }\n",
              "</style>\n",
              "<table border=\"1\" class=\"dataframe\">\n",
              "  <thead>\n",
              "    <tr style=\"text-align: right;\">\n",
              "      <th></th>\n",
              "      <th>Y</th>\n",
              "      <th>X1</th>\n",
              "      <th>X2</th>\n",
              "      <th>X3</th>\n",
              "      <th>X4</th>\n",
              "      <th>X5</th>\n",
              "      <th>X6</th>\n",
              "    </tr>\n",
              "  </thead>\n",
              "  <tbody>\n",
              "    <tr>\n",
              "      <th>0</th>\n",
              "      <td>0</td>\n",
              "      <td>3</td>\n",
              "      <td>3</td>\n",
              "      <td>3</td>\n",
              "      <td>4</td>\n",
              "      <td>2</td>\n",
              "      <td>4</td>\n",
              "    </tr>\n",
              "    <tr>\n",
              "      <th>1</th>\n",
              "      <td>0</td>\n",
              "      <td>3</td>\n",
              "      <td>2</td>\n",
              "      <td>3</td>\n",
              "      <td>5</td>\n",
              "      <td>4</td>\n",
              "      <td>3</td>\n",
              "    </tr>\n",
              "    <tr>\n",
              "      <th>2</th>\n",
              "      <td>1</td>\n",
              "      <td>5</td>\n",
              "      <td>3</td>\n",
              "      <td>3</td>\n",
              "      <td>3</td>\n",
              "      <td>3</td>\n",
              "      <td>5</td>\n",
              "    </tr>\n",
              "    <tr>\n",
              "      <th>3</th>\n",
              "      <td>0</td>\n",
              "      <td>5</td>\n",
              "      <td>4</td>\n",
              "      <td>3</td>\n",
              "      <td>3</td>\n",
              "      <td>3</td>\n",
              "      <td>5</td>\n",
              "    </tr>\n",
              "    <tr>\n",
              "      <th>4</th>\n",
              "      <td>0</td>\n",
              "      <td>5</td>\n",
              "      <td>4</td>\n",
              "      <td>3</td>\n",
              "      <td>3</td>\n",
              "      <td>3</td>\n",
              "      <td>5</td>\n",
              "    </tr>\n",
              "  </tbody>\n",
              "</table>\n",
              "</div>"
            ],
            "text/plain": [
              "   Y  X1  X2  X3  X4  X5  X6\n",
              "0  0   3   3   3   4   2   4\n",
              "1  0   3   2   3   5   4   3\n",
              "2  1   5   3   3   3   3   5\n",
              "3  0   5   4   3   3   3   5\n",
              "4  0   5   4   3   3   3   5"
            ]
          },
          "metadata": {
            "tags": []
          },
          "execution_count": 37
        }
      ]
    },
    {
      "cell_type": "code",
      "metadata": {
        "id": "7n-5lCLQwm29"
      },
      "source": [
        "df['split'] = np.random.randn(df.shape[0], 1)"
      ],
      "execution_count": 38,
      "outputs": []
    },
    {
      "cell_type": "code",
      "metadata": {
        "id": "80Yzy93pqZaU"
      },
      "source": [
        "msk = np.random.rand(len(df)) <= 0.7\r\n",
        "\r\n",
        "train = df[msk]\r\n",
        "test = df[~msk]"
      ],
      "execution_count": 39,
      "outputs": []
    },
    {
      "cell_type": "code",
      "metadata": {
        "colab": {
          "base_uri": "https://localhost:8080/"
        },
        "id": "mV4P6Y5Cq6OB",
        "outputId": "b9f293aa-87ea-4133-b609-a910c4555f39"
      },
      "source": [
        "test.shape"
      ],
      "execution_count": 40,
      "outputs": [
        {
          "output_type": "execute_result",
          "data": {
            "text/plain": [
              "(39, 8)"
            ]
          },
          "metadata": {
            "tags": []
          },
          "execution_count": 40
        }
      ]
    },
    {
      "cell_type": "code",
      "metadata": {
        "colab": {
          "base_uri": "https://localhost:8080/"
        },
        "id": "oEBD8gDkxeeu",
        "outputId": "5e5fcf37-8c53-46fa-f278-8ed46ec2d219"
      },
      "source": [
        "train.shape"
      ],
      "execution_count": 41,
      "outputs": [
        {
          "output_type": "execute_result",
          "data": {
            "text/plain": [
              "(87, 8)"
            ]
          },
          "metadata": {
            "tags": []
          },
          "execution_count": 41
        }
      ]
    },
    {
      "cell_type": "code",
      "metadata": {
        "colab": {
          "base_uri": "https://localhost:8080/",
          "height": 206
        },
        "id": "SgszdIEAxg_k",
        "outputId": "3abce124-799b-4731-bd46-295719bfb082"
      },
      "source": [
        "train.head()"
      ],
      "execution_count": 42,
      "outputs": [
        {
          "output_type": "execute_result",
          "data": {
            "text/html": [
              "<div>\n",
              "<style scoped>\n",
              "    .dataframe tbody tr th:only-of-type {\n",
              "        vertical-align: middle;\n",
              "    }\n",
              "\n",
              "    .dataframe tbody tr th {\n",
              "        vertical-align: top;\n",
              "    }\n",
              "\n",
              "    .dataframe thead th {\n",
              "        text-align: right;\n",
              "    }\n",
              "</style>\n",
              "<table border=\"1\" class=\"dataframe\">\n",
              "  <thead>\n",
              "    <tr style=\"text-align: right;\">\n",
              "      <th></th>\n",
              "      <th>Y</th>\n",
              "      <th>X1</th>\n",
              "      <th>X2</th>\n",
              "      <th>X3</th>\n",
              "      <th>X4</th>\n",
              "      <th>X5</th>\n",
              "      <th>X6</th>\n",
              "      <th>split</th>\n",
              "    </tr>\n",
              "  </thead>\n",
              "  <tbody>\n",
              "    <tr>\n",
              "      <th>1</th>\n",
              "      <td>0</td>\n",
              "      <td>3</td>\n",
              "      <td>2</td>\n",
              "      <td>3</td>\n",
              "      <td>5</td>\n",
              "      <td>4</td>\n",
              "      <td>3</td>\n",
              "      <td>0.498337</td>\n",
              "    </tr>\n",
              "    <tr>\n",
              "      <th>2</th>\n",
              "      <td>1</td>\n",
              "      <td>5</td>\n",
              "      <td>3</td>\n",
              "      <td>3</td>\n",
              "      <td>3</td>\n",
              "      <td>3</td>\n",
              "      <td>5</td>\n",
              "      <td>-0.596488</td>\n",
              "    </tr>\n",
              "    <tr>\n",
              "      <th>3</th>\n",
              "      <td>0</td>\n",
              "      <td>5</td>\n",
              "      <td>4</td>\n",
              "      <td>3</td>\n",
              "      <td>3</td>\n",
              "      <td>3</td>\n",
              "      <td>5</td>\n",
              "      <td>-0.272488</td>\n",
              "    </tr>\n",
              "    <tr>\n",
              "      <th>4</th>\n",
              "      <td>0</td>\n",
              "      <td>5</td>\n",
              "      <td>4</td>\n",
              "      <td>3</td>\n",
              "      <td>3</td>\n",
              "      <td>3</td>\n",
              "      <td>5</td>\n",
              "      <td>1.022239</td>\n",
              "    </tr>\n",
              "    <tr>\n",
              "      <th>6</th>\n",
              "      <td>0</td>\n",
              "      <td>3</td>\n",
              "      <td>1</td>\n",
              "      <td>2</td>\n",
              "      <td>2</td>\n",
              "      <td>1</td>\n",
              "      <td>3</td>\n",
              "      <td>-0.556614</td>\n",
              "    </tr>\n",
              "  </tbody>\n",
              "</table>\n",
              "</div>"
            ],
            "text/plain": [
              "   Y  X1  X2  X3  X4  X5  X6     split\n",
              "1  0   3   2   3   5   4   3  0.498337\n",
              "2  1   5   3   3   3   3   5 -0.596488\n",
              "3  0   5   4   3   3   3   5 -0.272488\n",
              "4  0   5   4   3   3   3   5  1.022239\n",
              "6  0   3   1   2   2   1   3 -0.556614"
            ]
          },
          "metadata": {
            "tags": []
          },
          "execution_count": 42
        }
      ]
    },
    {
      "cell_type": "code",
      "metadata": {
        "colab": {
          "base_uri": "https://localhost:8080/"
        },
        "id": "Fx-mAOtqxnGO",
        "outputId": "b1b9e3f0-86bc-4b91-cb4f-8c38f81ee043"
      },
      "source": [
        "# Checking for null values\r\n",
        "li = train.isnull().sum().values\r\n",
        "li "
      ],
      "execution_count": 43,
      "outputs": [
        {
          "output_type": "execute_result",
          "data": {
            "text/plain": [
              "array([0, 0, 0, 0, 0, 0, 0, 0])"
            ]
          },
          "metadata": {
            "tags": []
          },
          "execution_count": 43
        }
      ]
    },
    {
      "cell_type": "code",
      "metadata": {
        "colab": {
          "base_uri": "https://localhost:8080/"
        },
        "id": "kQnNS1N2yccj",
        "outputId": "43df4414-a131-4fb6-bb14-c79516ab0480"
      },
      "source": [
        "train[\"Y\"].value_counts()"
      ],
      "execution_count": 44,
      "outputs": [
        {
          "output_type": "execute_result",
          "data": {
            "text/plain": [
              "1    46\n",
              "0    41\n",
              "Name: Y, dtype: int64"
            ]
          },
          "metadata": {
            "tags": []
          },
          "execution_count": 44
        }
      ]
    },
    {
      "cell_type": "code",
      "metadata": {
        "colab": {
          "base_uri": "https://localhost:8080/",
          "height": 112
        },
        "id": "m2ES39DrylaY",
        "outputId": "2c300da5-df96-4587-b71f-fc26e9d9554c"
      },
      "source": [
        "# happy customers have Y==0, unhappy custormers have Y==1\r\n",
        "df1 = pd.DataFrame(train.Y.value_counts())\r\n",
        "df1['Percentage'] = 100*df1['Y']/df.shape[0]\r\n",
        "df1"
      ],
      "execution_count": 45,
      "outputs": [
        {
          "output_type": "execute_result",
          "data": {
            "text/html": [
              "<div>\n",
              "<style scoped>\n",
              "    .dataframe tbody tr th:only-of-type {\n",
              "        vertical-align: middle;\n",
              "    }\n",
              "\n",
              "    .dataframe tbody tr th {\n",
              "        vertical-align: top;\n",
              "    }\n",
              "\n",
              "    .dataframe thead th {\n",
              "        text-align: right;\n",
              "    }\n",
              "</style>\n",
              "<table border=\"1\" class=\"dataframe\">\n",
              "  <thead>\n",
              "    <tr style=\"text-align: right;\">\n",
              "      <th></th>\n",
              "      <th>Y</th>\n",
              "      <th>Percentage</th>\n",
              "    </tr>\n",
              "  </thead>\n",
              "  <tbody>\n",
              "    <tr>\n",
              "      <th>1</th>\n",
              "      <td>46</td>\n",
              "      <td>36.507937</td>\n",
              "    </tr>\n",
              "    <tr>\n",
              "      <th>0</th>\n",
              "      <td>41</td>\n",
              "      <td>32.539683</td>\n",
              "    </tr>\n",
              "  </tbody>\n",
              "</table>\n",
              "</div>"
            ],
            "text/plain": [
              "    Y  Percentage\n",
              "1  46   36.507937\n",
              "0  41   32.539683"
            ]
          },
          "metadata": {
            "tags": []
          },
          "execution_count": 45
        }
      ]
    },
    {
      "cell_type": "code",
      "metadata": {
        "colab": {
          "base_uri": "https://localhost:8080/",
          "height": 265
        },
        "id": "V8gNSZXgy26X",
        "outputId": "d027df19-0f86-485b-a4b4-56ab16bde1d8"
      },
      "source": [
        "# Visualizing proportion of target values using a histogram\r\n",
        "train['Y'].hist();"
      ],
      "execution_count": 46,
      "outputs": [
        {
          "output_type": "display_data",
          "data": {
            "image/png": "[encoded data removed]",
            "text/plain": [
              "<Figure size 432x288 with 1 Axes>"
            ]
          },
          "metadata": {
            "tags": [],
            "needs_background": "light"
          }
        }
      ]
    },
    {
      "cell_type": "code",
      "metadata": {
        "colab": {
          "base_uri": "https://localhost:8080/",
          "height": 281
        },
        "id": "aLxPGf2OzECF",
        "outputId": "8511b5ae-1bfd-41df-f6a7-5b6a67e30a45"
      },
      "source": [
        "# num_var4 is the number of products. Let's plot the distribution:\r\n",
        "train[['X1','X2','X3','X4','X5','X6']].hist()\r\n",
        "#plt.xlabel('Questions')\r\n",
        "#plt.ylabel('Number of customers in train')\r\n",
        "#plt.title('Graphs')\r\n",
        "plt.show()"
      ],
      "execution_count": 58,
      "outputs": [
        {
          "output_type": "display_data",
          "data": {
            "image/png": "[encoded data removed]",
            "text/plain": [
              "<Figure size 432x288 with 6 Axes>"
            ]
          },
          "metadata": {
            "tags": [],
            "needs_background": "light"
          }
        }
      ]
    },
    {
      "cell_type": "markdown",
      "metadata": {
        "id": "KvLHMX0vMl7N"
      },
      "source": [
        ""
      ]
    },
    {
      "cell_type": "markdown",
      "metadata": {
        "id": "fVsI9BjzTBcH"
      },
      "source": [
        "### Data Preprocessing\r\n",
        "Preprocessing involves the following steps:\r\n",
        "- Removing constant columns ( columns whose standard deviation is 0)\r\n",
        "- From then, remove duplicated columns \r\n",
        "- split the data into training data, training label and test data\r\n",
        "- Use unsupervised learning (K-means clustering) to cluster the data based on smilarity between features and add them to the train and test data "
      ]
    },
    {
      "cell_type": "code",
      "metadata": {
        "id": "YNQHi19OMEsV"
      },
      "source": [
        "def preprocess(train,test):\r\n",
        "    \r\n",
        "        \r\n",
        "    \"\"\"clean and split data\r\n",
        "    Args:\r\n",
        "        train: Training data.\r\n",
        "        test: Testing data\r\n",
        "    Returns:\r\n",
        "        X: Features for modeling.\r\n",
        "        Y: Labels for model.\r\n",
        "        test: test features for modeling.\r\n",
        "        test_id: test id's\r\n",
        "    \"\"\"\r\n",
        "\r\n",
        "    \r\n",
        "    # remove constant columns (std = 0)\r\n",
        "    remove = []\r\n",
        "    \r\n",
        "    for col in train.columns:\r\n",
        "        \r\n",
        "        if train[col].std() == 0:\r\n",
        "            remove.append(col)\r\n",
        "\r\n",
        "    train.drop(remove, axis=1, inplace=True)\r\n",
        "    test.drop(remove, axis=1, inplace=True)\r\n",
        "\r\n",
        "    # remove duplicated columns\r\n",
        "    remove = []\r\n",
        "    cols = df.columns\r\n",
        "    for i in range(len(cols)-1):\r\n",
        "        v = df[cols[i]].values\r\n",
        "        for j in range(i+1,len(cols)):\r\n",
        "            if np.array_equal(v,df[cols[j]].values):\r\n",
        "                remove.append(cols[j])\r\n",
        "\r\n",
        "    train.drop(remove, axis=1, inplace=True)\r\n",
        "    test.drop(remove, axis=1, inplace=True)\r\n",
        "    \r\n",
        "# split data into train and test\r\n",
        "    test_id = test.Y.values\r\n",
        "    \r\n",
        "    test_out = test.drop([\"Y\",\"split\"],axis=1)\r\n",
        "    \r\n",
        "    X = train.drop([\"Y\",\"split\"],axis=1)\r\n",
        "    y = train.Y.values\r\n",
        "    return X, y, test_out , test_id\r\n"
      ],
      "execution_count": 106,
      "outputs": []
    },
    {
      "cell_type": "code",
      "metadata": {
        "colab": {
          "base_uri": "https://localhost:8080/"
        },
        "id": "jZKBxuUmUjId",
        "outputId": "a82d2a3c-9a4c-452d-9d5b-1a742b9e615b"
      },
      "source": [
        "X, y, test_out , test_id = preprocess(train,test)"
      ],
      "execution_count": 107,
      "outputs": [
        {
          "output_type": "stream",
          "text": [
            "/usr/local/lib/python3.7/dist-packages/pandas/core/frame.py:4174: SettingWithCopyWarning: \n",
            "A value is trying to be set on a copy of a slice from a DataFrame\n",
            "\n",
            "See the caveats in the documentation: https://pandas.pydata.org/pandas-docs/stable/user_guide/indexing.html#returning-a-view-versus-a-copy\n",
            "  errors=errors,\n"
          ],
          "name": "stderr"
        }
      ]
    },
    {
      "cell_type": "code",
      "metadata": {
        "colab": {
          "base_uri": "https://localhost:8080/"
        },
        "id": "KNDg-CWiVq3L",
        "outputId": "ef464771-d012-4895-ee73-c8f3a4d623a9"
      },
      "source": [
        "X.shape"
      ],
      "execution_count": 112,
      "outputs": [
        {
          "output_type": "execute_result",
          "data": {
            "text/plain": [
              "(87, 6)"
            ]
          },
          "metadata": {
            "tags": []
          },
          "execution_count": 112
        }
      ]
    },
    {
      "cell_type": "code",
      "metadata": {
        "colab": {
          "base_uri": "https://localhost:8080/"
        },
        "id": "QkHfvTIAVOKX",
        "outputId": "93d87043-0bbd-49a4-fed5-137bc3ea0242"
      },
      "source": [
        "y.shape"
      ],
      "execution_count": 113,
      "outputs": [
        {
          "output_type": "execute_result",
          "data": {
            "text/plain": [
              "(87,)"
            ]
          },
          "metadata": {
            "tags": []
          },
          "execution_count": 113
        }
      ]
    },
    {
      "cell_type": "code",
      "metadata": {
        "colab": {
          "base_uri": "https://localhost:8080/"
        },
        "id": "mJ21oFmDVuye",
        "outputId": "32c33a6c-e3b2-42dc-9031-2534e6332783"
      },
      "source": [
        "test_out.shape"
      ],
      "execution_count": 114,
      "outputs": [
        {
          "output_type": "execute_result",
          "data": {
            "text/plain": [
              "(39, 6)"
            ]
          },
          "metadata": {
            "tags": []
          },
          "execution_count": 114
        }
      ]
    },
    {
      "cell_type": "code",
      "metadata": {
        "colab": {
          "base_uri": "https://localhost:8080/"
        },
        "id": "AlYpJgTFV0WR",
        "outputId": "78e0a335-5638-4b64-d9fe-9be6d4428f53"
      },
      "source": [
        "test_id.shape"
      ],
      "execution_count": 115,
      "outputs": [
        {
          "output_type": "execute_result",
          "data": {
            "text/plain": [
              "(39,)"
            ]
          },
          "metadata": {
            "tags": []
          },
          "execution_count": 115
        }
      ]
    },
    {
      "cell_type": "code",
      "metadata": {
        "id": "lwm3RaDmV3DF"
      },
      "source": [
        "#  Create an instance of KMeans to find two clusters\r\n",
        "kmeans_1 = KMeans(n_clusters=2)\r\n",
        "\r\n",
        "# use fit_predict to cluster the dataset\r\n",
        "predictions = kmeans_1.fit_predict(X) \r\n",
        "pred_test = kmeans_1.fit_predict(test_out) "
      ],
      "execution_count": 116,
      "outputs": []
    },
    {
      "cell_type": "code",
      "metadata": {
        "colab": {
          "base_uri": "https://localhost:8080/"
        },
        "id": "YlVcN9YFXlV0",
        "outputId": "9c7c6e29-c920-4fa2-b71e-d6b666b94b70"
      },
      "source": [
        "test['preditions'] = pred_test"
      ],
      "execution_count": 119,
      "outputs": [
        {
          "output_type": "stream",
          "text": [
            "/usr/local/lib/python3.7/dist-packages/ipykernel_launcher.py:1: SettingWithCopyWarning: \n",
            "A value is trying to be set on a copy of a slice from a DataFrame.\n",
            "Try using .loc[row_indexer,col_indexer] = value instead\n",
            "\n",
            "See the caveats in the documentation: https://pandas.pydata.org/pandas-docs/stable/user_guide/indexing.html#returning-a-view-versus-a-copy\n",
            "  \"\"\"Entry point for launching an IPython kernel.\n"
          ],
          "name": "stderr"
        }
      ]
    },
    {
      "cell_type": "code",
      "metadata": {
        "id": "O-SdOw4RXqK1"
      },
      "source": [
        "X['preditions'] = predictions"
      ],
      "execution_count": 120,
      "outputs": []
    },
    {
      "cell_type": "markdown",
      "metadata": {
        "id": "2FIfXfk2X772"
      },
      "source": [
        "Initial model\r\n",
        "\r\n"
      ]
    },
    {
      "cell_type": "code",
      "metadata": {
        "id": "HEuofGaQX32J"
      },
      "source": [
        "# making test - valid sets\r\n",
        "X_train, X_test, y_train, y_test = train_test_split(X, y, test_size=0.1)\r\n"
      ],
      "execution_count": 121,
      "outputs": []
    },
    {
      "cell_type": "code",
      "metadata": {
        "colab": {
          "base_uri": "https://localhost:8080/"
        },
        "id": "fYwL07JyYYzx",
        "outputId": "3e8f8b66-5384-4479-b231-a2f49b0a2bcf"
      },
      "source": [
        "# parameters for LightGBMClassifier\r\n",
        "params = {\r\n",
        "    'objective' :'binary',\r\n",
        "    'num_leaves' : 76,\r\n",
        "    'bagging_fraction': 0.8, \r\n",
        "    'bagging_freq':1,\r\n",
        "    'boosting_type' : 'gbdt',\r\n",
        "    'metric': 'auc',\r\n",
        "    'max_depth':5\r\n",
        "}\r\n",
        "# making lgbm datasets for train and valid\r\n",
        "d_train = lgbm.Dataset(X_train, y_train)\r\n",
        "d_valid = lgbm.Dataset(X_test, y_test)\r\n",
        "    \r\n",
        "    # training with early stop\r\n",
        "bst = lgbm.train(params, d_train, 5000,  valid_sets=[d_valid], verbose_eval=50, early_stopping_rounds=100) \r\n",
        "    \r\n",
        "    # making prediciton for one column\r\n",
        "\r\n",
        "print('Fininshed Training')"
      ],
      "execution_count": 123,
      "outputs": [
        {
          "output_type": "stream",
          "text": [
            "Training until validation scores don't improve for 100 rounds.\n",
            "[50]\tvalid_0's auc: 0.638889\n",
            "[100]\tvalid_0's auc: 0.638889\n",
            "Early stopping, best iteration is:\n",
            "[34]\tvalid_0's auc: 0.805556\n",
            "Fininshed Training\n"
          ],
          "name": "stdout"
        }
      ]
    },
    {
      "cell_type": "markdown",
      "metadata": {
        "id": "uCwVgcH3Y87X"
      },
      "source": [
        "Initially, I splitted the data into training and validation data to evaluate how well metric performed\r\n",
        "- Then, I used lightgbm as supervised learning model\r\n",
        "- Initial model consists of mainly default parameters, the main thing I modified was the metric to \"auc\" and also precised the objective which is binary classification.early stopping was used to monitor training.\r\n",
        "- Best validation auc for the initial model gave a value of 0.699646\r\n",
        "- Then I tuned a few parameters, The parameters tuned are as follows:\r\n",
        "num_leaves = 76,\r\n",
        "bagging_fraction= 0.8,\r\n",
        "bagging_freq=1,\r\n",
        "boosting_type=gbdt,\r\n",
        "max_depth=5\r\n",
        "- Best validation auc for the tuned model gave a value of 0.80556\r\n",
        "\r\n"
      ]
    },
    {
      "cell_type": "code",
      "metadata": {
        "colab": {
          "base_uri": "https://localhost:8080/",
          "height": 156
        },
        "id": "uagtFL1GY5iz",
        "outputId": "e2afb05e-9cc8-4c12-b18e-862e8011638f"
      },
      "source": [
        "# Using permutation importance to know the most relevant features for prediction\r\n",
        "import eli5\r\n",
        "from eli5.sklearn import PermutationImportance\r\n",
        "from sklearn.ensemble import RandomForestClassifier\r\n",
        "\r\n",
        "my_model = RandomForestClassifier(random_state=0).fit(X_train, y_train)\r\n",
        "\r\n",
        "perm = PermutationImportance(my_model, random_state=1).fit(X_test, y_test)\r\n",
        "eli5.show_weights(perm, feature_names = X_test.columns.tolist())"
      ],
      "execution_count": 124,
      "outputs": [
        {
          "output_type": "execute_result",
          "data": {
            "text/html": [
              "\n",
              "    <style>\n",
              "    table.eli5-weights tr:hover {\n",
              "        filter: brightness(85%);\n",
              "    }\n",
              "</style>\n",
              "\n",
              "\n",
              "\n",
              "    \n",
              "\n",
              "    \n",
              "\n",
              "    \n",
              "\n",
              "    \n",
              "\n",
              "    \n",
              "\n",
              "    \n",
              "\n",
              "\n",
              "    \n",
              "\n",
              "    \n",
              "\n",
              "    \n",
              "\n",
              "    \n",
              "\n",
              "    \n",
              "\n",
              "    \n",
              "\n",
              "\n",
              "    \n",
              "\n",
              "    \n",
              "\n",
              "    \n",
              "\n",
              "    \n",
              "\n",
              "    \n",
              "        <table class=\"eli5-weights eli5-feature-importances\" style=\"border-collapse: collapse; border: none; margin-top: 0em; table-layout: auto;\">\n",
              "    <thead>\n",
              "    <tr style=\"border: none;\">\n",
              "        <th style=\"padding: 0 1em 0 0.5em; text-align: right; border: none;\">Weight</th>\n",
              "        <th style=\"padding: 0 0.5em 0 0.5em; text-align: left; border: none;\">Feature</th>\n",
              "    </tr>\n",
              "    </thead>\n",
              "    <tbody>\n",
              "    \n",
              "        <tr style=\"background-color: hsl(120, 100.00%, 80.00%); border: none;\">\n",
              "            <td style=\"padding: 0 1em 0 0.5em; text-align: right; border: none;\">\n",
              "                0.1556\n",
              "                \n",
              "                    &plusmn; 0.1089\n",
              "                \n",
              "            </td>\n",
              "            <td style=\"padding: 0 0.5em 0 0.5em; text-align: left; border: none;\">\n",
              "                X1\n",
              "            </td>\n",
              "        </tr>\n",
              "    \n",
              "        <tr style=\"background-color: hsl(120, 100.00%, 84.20%); border: none;\">\n",
              "            <td style=\"padding: 0 1em 0 0.5em; text-align: right; border: none;\">\n",
              "                0.1111\n",
              "                \n",
              "                    &plusmn; 0.1988\n",
              "                \n",
              "            </td>\n",
              "            <td style=\"padding: 0 0.5em 0 0.5em; text-align: left; border: none;\">\n",
              "                X2\n",
              "            </td>\n",
              "        </tr>\n",
              "    \n",
              "        <tr style=\"background-color: hsl(120, 100.00%, 94.88%); border: none;\">\n",
              "            <td style=\"padding: 0 1em 0 0.5em; text-align: right; border: none;\">\n",
              "                0.0222\n",
              "                \n",
              "                    &plusmn; 0.2177\n",
              "                \n",
              "            </td>\n",
              "            <td style=\"padding: 0 0.5em 0 0.5em; text-align: left; border: none;\">\n",
              "                X6\n",
              "            </td>\n",
              "        </tr>\n",
              "    \n",
              "        <tr style=\"background-color: hsl(0, 100.00%, 100.00%); border: none;\">\n",
              "            <td style=\"padding: 0 1em 0 0.5em; text-align: right; border: none;\">\n",
              "                0\n",
              "                \n",
              "                    &plusmn; 0.0000\n",
              "                \n",
              "            </td>\n",
              "            <td style=\"padding: 0 0.5em 0 0.5em; text-align: left; border: none;\">\n",
              "                preditions\n",
              "            </td>\n",
              "        </tr>\n",
              "    \n",
              "        <tr style=\"background-color: hsl(0, 100.00%, 100.00%); border: none;\">\n",
              "            <td style=\"padding: 0 1em 0 0.5em; text-align: right; border: none;\">\n",
              "                0\n",
              "                \n",
              "                    &plusmn; 0.0000\n",
              "                \n",
              "            </td>\n",
              "            <td style=\"padding: 0 0.5em 0 0.5em; text-align: left; border: none;\">\n",
              "                X3\n",
              "            </td>\n",
              "        </tr>\n",
              "    \n",
              "        <tr style=\"background-color: hsl(0, 100.00%, 88.95%); border: none;\">\n",
              "            <td style=\"padding: 0 1em 0 0.5em; text-align: right; border: none;\">\n",
              "                -0.0667\n",
              "                \n",
              "                    &plusmn; 0.1089\n",
              "                \n",
              "            </td>\n",
              "            <td style=\"padding: 0 0.5em 0 0.5em; text-align: left; border: none;\">\n",
              "                X5\n",
              "            </td>\n",
              "        </tr>\n",
              "    \n",
              "        <tr style=\"background-color: hsl(0, 100.00%, 82.05%); border: none;\">\n",
              "            <td style=\"padding: 0 1em 0 0.5em; text-align: right; border: none;\">\n",
              "                -0.1333\n",
              "                \n",
              "                    &plusmn; 0.0889\n",
              "                \n",
              "            </td>\n",
              "            <td style=\"padding: 0 0.5em 0 0.5em; text-align: left; border: none;\">\n",
              "                X4\n",
              "            </td>\n",
              "        </tr>\n",
              "    \n",
              "    \n",
              "    </tbody>\n",
              "</table>\n",
              "    \n",
              "\n",
              "    \n",
              "\n",
              "\n",
              "    \n",
              "\n",
              "    \n",
              "\n",
              "    \n",
              "\n",
              "    \n",
              "\n",
              "    \n",
              "\n",
              "    \n",
              "\n",
              "\n",
              "\n"
            ],
            "text/plain": [
              "<IPython.core.display.HTML object>"
            ]
          },
          "metadata": {
            "tags": []
          },
          "execution_count": 124
        }
      ]
    },
    {
      "cell_type": "markdown",
      "metadata": {
        "id": "s2bliOQobbBS"
      },
      "source": [
        ""
      ]
    },
    {
      "cell_type": "code",
      "metadata": {
        "id": "jVUU9N0tYkJa"
      },
      "source": [
        "pred =  bst.predict(test)"
      ],
      "execution_count": 125,
      "outputs": []
    },
    {
      "cell_type": "markdown",
      "metadata": {
        "id": "Zw31paI_Za6u"
      },
      "source": [
        "### Conclusion\r\n",
        "\r\n",
        "The project is about predicting whether the customers of a business will be happy or not with the business’s product.To illustrate that, we used the dataset Santader released on kaggle.\r\n",
        "- Some data visualizations was done and showed for example that unhappy customers used less products.\r\n",
        "- Some data processing was done and clustering was also implemented to group data with similar features.\r\n",
        "- Machine learning was then used to predict customer’s satisfaction where an auc of 0.841805 was obtained.\r\n",
        "- The top 20 features relevant to prediction was then displayed.\r\n",
        "\r\n",
        "\r\n",
        "Initially the default parameters for lightgbm was used to train the data,for which we get accuracy round 0.69956\r\n",
        "The tuned lightgbm model, gave an accuracy of 0.80556 and a p\r\n",
        "\r\n",
        "The main challenge in this project I faced was tuning parameters for lighgbm. \r\n",
        "I would like to thanks this blog for helping in training these paameters\r\n",
        "URL: https://medium.com/@ericnguifo/machine-learning-can-predict-whether-a-customer-is-happy-or-not-7037f8761b6d"
      ]
    },
    {
      "cell_type": "code",
      "metadata": {
        "id": "CLeQrLhvZWQG"
      },
      "source": [
        ""
      ],
      "execution_count": null,
      "outputs": []
    }
  ]
}